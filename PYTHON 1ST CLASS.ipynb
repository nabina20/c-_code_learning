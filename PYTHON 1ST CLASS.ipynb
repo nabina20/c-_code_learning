{
 "cells": [
  {
   "cell_type": "code",
   "execution_count": 3,
   "id": "5ec868de",
   "metadata": {},
   "outputs": [
    {
     "name": "stdout",
     "output_type": "stream",
     "text": [
      "enter name: nabina\n",
      "nabina\n"
     ]
    }
   ],
   "source": [
    "name=input(\"enter name: \")\n",
    "print(name)"
   ]
  },
  {
   "cell_type": "code",
   "execution_count": 4,
   "id": "b00de409",
   "metadata": {},
   "outputs": [
    {
     "name": "stdout",
     "output_type": "stream",
     "text": [
      "enter 1st no: 2\n",
      "enter 2nd no: 2\n",
      "4\n"
     ]
    }
   ],
   "source": [
    "a=int(input(\"enter 1st no: \"))\n",
    "b=int(input(\"enter 2nd no: \"))\n",
    "print(a+b)"
   ]
  },
  {
   "cell_type": "code",
   "execution_count": 5,
   "id": "3570ade9",
   "metadata": {},
   "outputs": [
    {
     "data": {
      "text/plain": [
       "str"
      ]
     },
     "execution_count": 5,
     "metadata": {},
     "output_type": "execute_result"
    }
   ],
   "source": [
    "type(name)"
   ]
  },
  {
   "cell_type": "code",
   "execution_count": 6,
   "id": "a8d41ec2",
   "metadata": {},
   "outputs": [
    {
     "data": {
      "text/plain": [
       "int"
      ]
     },
     "execution_count": 6,
     "metadata": {},
     "output_type": "execute_result"
    }
   ],
   "source": [
    "type(a)"
   ]
  },
  {
   "cell_type": "code",
   "execution_count": 7,
   "id": "20ce3560",
   "metadata": {},
   "outputs": [
    {
     "data": {
      "text/plain": [
       "int"
      ]
     },
     "execution_count": 7,
     "metadata": {},
     "output_type": "execute_result"
    }
   ],
   "source": [
    "type(1)"
   ]
  },
  {
   "cell_type": "code",
   "execution_count": null,
   "id": "a92c050a",
   "metadata": {},
   "outputs": [],
   "source": [
    "\n",
    "a=0b1010 #binary literals\n",
    "b= 100 #decimals literals\n",
    "c=0o310 #octal literals\n",
    "d= 0x12c #hexadeximal literals\n",
    "print(a, b, c, d) #chuttai line maa garnu paryo vaney Print(a, b, c, d, sep=\"\\n\")\n"
   ]
  },
  {
   "cell_type": "code",
   "execution_count": 12,
   "id": "a6c59a7a",
   "metadata": {},
   "outputs": [
    {
     "name": "stdout",
     "output_type": "stream",
     "text": [
      "10.3\n",
      "1500.0\n",
      "0.0015\n"
     ]
    }
   ],
   "source": [
    "#float literals\n",
    "float_1= 10.3\n",
    "float_2=1.5e3\n",
    "float_3= 1.5e-3\n",
    "print(float_1, float_2, float_3, sep=\"\\n\")\n"
   ]
  },
  {
   "cell_type": "code",
   "execution_count": 24,
   "id": "5670a57a",
   "metadata": {},
   "outputs": [
    {
     "name": "stdout",
     "output_type": "stream",
     "text": [
      "This is python\n",
      "This is python\n",
      "This is multiline string \n",
      "This is miltiline string\n",
      "ydsthviduthsj\n",
      "\n",
      "🙄🙅\n",
      "raw \\n string\n"
     ]
    }
   ],
   "source": [
    "string='This is python'\n",
    "strings=\"This is python\"\n",
    "char=\"c\"\n",
    "multiline_string=\"\"\"This is multiline string \n",
    "This is miltiline string\n",
    "ydsthviduthsj\n",
    "\"\"\"\n",
    "unicode_string=u\"\\U0001F644\\U0001F645\"\n",
    "raw_string=r\"raw \\n string\"\n",
    "\n",
    "print(string)\n",
    "print(strings)\n",
    "print(multiline_string)\n",
    "print(unicode_string)\n",
    "print(raw_string)"
   ]
  },
  {
   "cell_type": "markdown",
   "id": "968bc70e",
   "metadata": {},
   "source": [
    "# operators\n"
   ]
  },
  {
   "cell_type": "markdown",
   "id": "931dc9a1",
   "metadata": {},
   "source": [
    "# 1.) Arthematics operators"
   ]
  },
  {
   "cell_type": "code",
   "execution_count": 25,
   "id": "bcd52ed1",
   "metadata": {},
   "outputs": [
    {
     "name": "stdout",
     "output_type": "stream",
     "text": [
      "5\n",
      "-1\n",
      "8\n",
      "0.75\n"
     ]
    }
   ],
   "source": [
    "print(2+3)\n",
    "print(2-3)\n",
    "print(2*4)\n",
    "print(3/4)"
   ]
  },
  {
   "cell_type": "markdown",
   "id": "1af1aa0a",
   "metadata": {},
   "source": [
    "# 2.) relational operators\n"
   ]
  },
  {
   "cell_type": "code",
   "execution_count": 28,
   "id": "8eb7f329",
   "metadata": {},
   "outputs": [
    {
     "name": "stdout",
     "output_type": "stream",
     "text": [
      "2 25\n"
     ]
    }
   ],
   "source": [
    "print(2%4, 5**2, )"
   ]
  },
  {
   "cell_type": "markdown",
   "id": "3e286e9c",
   "metadata": {},
   "source": [
    "# 3.) logical operations"
   ]
  },
  {
   "cell_type": "code",
   "execution_count": 30,
   "id": "e1638378",
   "metadata": {},
   "outputs": [
    {
     "name": "stdout",
     "output_type": "stream",
     "text": [
      " username: nabina \n",
      " password: 123\n",
      "username or password must be incorrect\n"
     ]
    }
   ],
   "source": [
    "username= \"nabina\"\n",
    "password=\"123@w\"\n",
    "input_username= input(\" username: \")\n",
    "input_password= input(\" password: \")\n",
    "if input_username== username and input_password== password:\n",
    "    print(\"login success\")\n",
    "else: \n",
    "    print(\"username or password must be incorrect\")\n",
    "    "
   ]
  },
  {
   "cell_type": "code",
   "execution_count": 37,
   "id": "c9d66c4d",
   "metadata": {},
   "outputs": [
    {
     "name": "stdout",
     "output_type": "stream",
     "text": [
      " username: nabin\n",
      " password: nanab\n",
      "username and  password must be incorrect\n"
     ]
    }
   ],
   "source": [
    "username= \"nabina\"\n",
    "password=\"123@w\"\n",
    "input_username= input(\" username: \")\n",
    "input_password= input(\" password: \")\n",
    "if input_username== username and input_password== password:\n",
    "    print(\"login success\")\n",
    "elif input_username==username:\n",
    "    print(\"password incorrect\")\n",
    "elif input_password==password:\n",
    "     \n",
    "    print(\"username incorrect\")\n",
    "else: \n",
    "    print(\"username and  password must be incorrect\")\n",
    "    "
   ]
  },
  {
   "cell_type": "code",
   "execution_count": 33,
   "id": "6c395368",
   "metadata": {},
   "outputs": [
    {
     "name": "stdout",
     "output_type": "stream",
     "text": [
      "enter a: 1\n",
      "enter b:2\n",
      "enter c: 3\n",
      "1 is minimum\n"
     ]
    }
   ],
   "source": [
    "a= int(input(\"enter a: \"))\n",
    "b= int(input(\"enter b:\"))\n",
    "c=int(input(\"enter c: \"))\n",
    "if a<b and a<c:\n",
    "    print(a, \"is minimum\")\n",
    "elif b<c:\n",
    "    print(b, \"is minimum\")\n",
    "else: \n",
    "    print(c, \"is minimum\")"
   ]
  },
  {
   "cell_type": "markdown",
   "id": "fa357155",
   "metadata": {},
   "source": [
    "# 4.) bitwise operations"
   ]
  },
  {
   "cell_type": "markdown",
   "id": "9b4e0cd7",
   "metadata": {},
   "source": [
    "#&=and \n",
    "|=or\n",
    "~=not\n",
    "^= exclusive"
   ]
  },
  {
   "cell_type": "markdown",
   "id": "af09ef0b",
   "metadata": {},
   "source": [
    "# 5.) assignment operations"
   ]
  },
  {
   "cell_type": "code",
   "execution_count": null,
   "id": "568d5381",
   "metadata": {},
   "outputs": [],
   "source": [
    "==\n"
   ]
  },
  {
   "cell_type": "markdown",
   "id": "5336f0d3",
   "metadata": {},
   "source": [
    "# 6.) membership operations\n"
   ]
  },
  {
   "cell_type": "code",
   "execution_count": 35,
   "id": "26153cb6",
   "metadata": {},
   "outputs": [
    {
     "name": "stdout",
     "output_type": "stream",
     "text": [
      "True\n",
      "False\n"
     ]
    }
   ],
   "source": [
    "print(\"b\" in \"nabina\")\n",
    "print(\"b\" not in \"nabina\") #membership\n"
   ]
  },
  {
   "cell_type": "markdown",
   "id": "884977bd",
   "metadata": {},
   "source": [
    "### WHILE LOOP"
   ]
  },
  {
   "cell_type": "code",
   "execution_count": 38,
   "id": "9198e166",
   "metadata": {},
   "outputs": [
    {
     "name": "stdout",
     "output_type": "stream",
     "text": [
      "enter no. for table: 2\n",
      "2 * 1 = 2\n",
      "2 * 2 = 4\n",
      "2 * 3 = 6\n",
      "2 * 4 = 8\n",
      "2 * 5 = 10\n",
      "2 * 6 = 12\n",
      "2 * 7 = 14\n",
      "2 * 8 = 16\n",
      "2 * 9 = 18\n",
      "2 * 10 = 20\n"
     ]
    }
   ],
   "source": [
    "i=1\n",
    "number= int(input(\"enter no. for table: \"))\n",
    "while i<11:\n",
    "    print(number, \"*\", i , \"=\", number*i)\n",
    "    i +=1"
   ]
  },
  {
   "cell_type": "code",
   "execution_count": null,
   "id": "76256c67",
   "metadata": {},
   "outputs": [],
   "source": []
  },
  {
   "cell_type": "code",
   "execution_count": null,
   "id": "da69bb19",
   "metadata": {},
   "outputs": [],
   "source": []
  },
  {
   "cell_type": "code",
   "execution_count": null,
   "id": "dcbbdfec",
   "metadata": {},
   "outputs": [],
   "source": []
  }
 ],
 "metadata": {
  "kernelspec": {
   "display_name": "Python 3 (ipykernel)",
   "language": "python",
   "name": "python3"
  },
  "language_info": {
   "codemirror_mode": {
    "name": "ipython",
    "version": 3
   },
   "file_extension": ".py",
   "mimetype": "text/x-python",
   "name": "python",
   "nbconvert_exporter": "python",
   "pygments_lexer": "ipython3",
   "version": "3.9.13"
  }
 },
 "nbformat": 4,
 "nbformat_minor": 5
}
